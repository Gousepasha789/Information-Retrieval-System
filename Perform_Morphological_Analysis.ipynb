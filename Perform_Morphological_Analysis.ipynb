{
  "nbformat": 4,
  "nbformat_minor": 0,
  "metadata": {
    "colab": {
      "provenance": [],
      "authorship_tag": "ABX9TyM+oekvJOcFmEUQx5F5pAaC",
      "include_colab_link": true
    },
    "kernelspec": {
      "name": "python3",
      "display_name": "Python 3"
    },
    "language_info": {
      "name": "python"
    }
  },
  "cells": [
    {
      "cell_type": "markdown",
      "metadata": {
        "id": "view-in-github",
        "colab_type": "text"
      },
      "source": [
        "<a href=\"https://colab.research.google.com/github/Gousepasha789/Information-Retrieval-System/blob/main/Perform_Morphological_Analysis.ipynb\" target=\"_parent\"><img src=\"https://colab.research.google.com/assets/colab-badge.svg\" alt=\"Open In Colab\"/></a>"
      ]
    },
    {
      "source": [
        "import nltk\n",
        "from nltk.stem import PorterStemmer, WordNetLemmatizer\n",
        "from nltk.tokenize import word_tokenize\n",
        "from nltk.corpus import wordnet\n",
        "import re\n",
        "\n",
        "# Download necessary NLTK resources before initializing the lemmatizer\n",
        "nltk.download('punkt')\n",
        "nltk.download('wordnet')\n",
        "\n",
        "def get_prefix_suffix(word):\n",
        "    # Simple regex-based approach for finding common prefixes and suffixes\n",
        "    prefixes = [\"un\", \"re\", \"in\", \"im\", \"dis\", \"non\", \"pre\", \"mis\", \"over\", \"under\"]\n",
        "    suffixes = [\"ing\", \"ed\", \"ly\", \"er\", \"or\", \"ion\", \"able\", \"ible\", \"ment\", \"ness\", \"ful\", \"less\"]\n",
        "\n",
        "    prefix = next((pre for pre in prefixes if word.startswith(pre)), \"\")\n",
        "    suffix = next((suf for suf in suffixes if word.endswith(suf)), \"\")\n",
        "\n",
        "    root = word\n",
        "    if prefix:\n",
        "        root = root[len(prefix):]\n",
        "    if suffix:\n",
        "        root = root[:-len(suffix)]\n",
        "\n",
        "    return prefix, root, suffix\n",
        "\n",
        "# Initialize NLTK tools\n",
        "stemmer = PorterStemmer()\n",
        "lemmatizer = WordNetLemmatizer()\n",
        "\n",
        "# Sample words to analyze\n",
        "words = [\"running\", \"unhappiness\", \"predetermined\", \"disconnection\", \"overloading\"]\n",
        "\n",
        "print(\"Word Morphological Analysis\")\n",
        "print(\"=\"*40)\n",
        "for word in words:\n",
        "    prefix, root, suffix = get_prefix_suffix(word)\n",
        "    stemmed = stemmer.stem(word)\n",
        "    lemmatized = lemmatizer.lemmatize(word)\n",
        "\n",
        "    print(f\"Word: {word}\")\n",
        "    print(f\"  Prefix: {prefix}\")\n",
        "    print(f\"  Root: {root}\")\n",
        "    print(f\"  Suffix: {suffix}\")\n",
        "    print(f\"  Stemmed Form: {stemmed}\")\n",
        "    print(f\"  Lemmatized Form: {lemmatized}\")\n",
        "    print(\"-\"*40)"
      ],
      "cell_type": "code",
      "metadata": {
        "colab": {
          "base_uri": "https://localhost:8080/"
        },
        "id": "MIFvrziiVgk6",
        "outputId": "09dc2153-c4dc-42b0-d583-8b58c55001cf"
      },
      "execution_count": 4,
      "outputs": [
        {
          "output_type": "stream",
          "name": "stdout",
          "text": [
            "Word Morphological Analysis\n",
            "========================================\n",
            "Word: running\n",
            "  Prefix: \n",
            "  Root: runn\n",
            "  Suffix: ing\n",
            "  Stemmed Form: run\n",
            "  Lemmatized Form: running\n",
            "----------------------------------------\n",
            "Word: unhappiness\n",
            "  Prefix: un\n",
            "  Root: happi\n",
            "  Suffix: ness\n",
            "  Stemmed Form: unhappi\n",
            "  Lemmatized Form: unhappiness\n",
            "----------------------------------------\n",
            "Word: predetermined\n",
            "  Prefix: pre\n",
            "  Root: determin\n",
            "  Suffix: ed\n",
            "  Stemmed Form: predetermin\n",
            "  Lemmatized Form: predetermined\n",
            "----------------------------------------\n",
            "Word: disconnection\n",
            "  Prefix: dis\n",
            "  Root: connect\n",
            "  Suffix: ion\n",
            "  Stemmed Form: disconnect\n",
            "  Lemmatized Form: disconnection\n",
            "----------------------------------------\n",
            "Word: overloading\n",
            "  Prefix: over\n",
            "  Root: load\n",
            "  Suffix: ing\n",
            "  Stemmed Form: overload\n",
            "  Lemmatized Form: overloading\n",
            "----------------------------------------\n"
          ]
        },
        {
          "output_type": "stream",
          "name": "stderr",
          "text": [
            "[nltk_data] Downloading package punkt to /root/nltk_data...\n",
            "[nltk_data]   Package punkt is already up-to-date!\n",
            "[nltk_data] Downloading package wordnet to /root/nltk_data...\n",
            "[nltk_data]   Package wordnet is already up-to-date!\n"
          ]
        }
      ]
    }
  ]
}