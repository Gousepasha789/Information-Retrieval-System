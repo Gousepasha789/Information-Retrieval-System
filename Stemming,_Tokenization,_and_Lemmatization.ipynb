{
  "nbformat": 4,
  "nbformat_minor": 0,
  "metadata": {
    "colab": {
      "provenance": [],
      "authorship_tag": "ABX9TyPP8sduzx81B/PXqae7jkgJ",
      "include_colab_link": true
    },
    "kernelspec": {
      "name": "python3",
      "display_name": "Python 3"
    },
    "language_info": {
      "name": "python"
    }
  },
  "cells": [
    {
      "cell_type": "markdown",
      "metadata": {
        "id": "view-in-github",
        "colab_type": "text"
      },
      "source": [
        "<a href=\"https://colab.research.google.com/github/Gousepasha789/Information-Retrieval-System/blob/main/Stemming%2C_Tokenization%2C_and_Lemmatization.ipynb\" target=\"_parent\"><img src=\"https://colab.research.google.com/assets/colab-badge.svg\" alt=\"Open In Colab\"/></a>"
      ]
    },
    {
      "cell_type": "code",
      "execution_count": 6,
      "metadata": {
        "colab": {
          "base_uri": "https://localhost:8080/"
        },
        "id": "MSRyexZvOZmN",
        "outputId": "603fa72f-36bc-49c5-aef3-0462880db751"
      },
      "outputs": [
        {
          "output_type": "stream",
          "name": "stderr",
          "text": [
            "[nltk_data] Downloading package punkt_tab to /root/nltk_data...\n",
            "[nltk_data]   Unzipping tokenizers/punkt_tab.zip.\n",
            "[nltk_data] Downloading package wordnet to /root/nltk_data...\n",
            "[nltk_data]   Package wordnet is already up-to-date!\n",
            "[nltk_data] Downloading package omw-1.4 to /root/nltk_data...\n",
            "[nltk_data]   Package omw-1.4 is already up-to-date!\n"
          ]
        },
        {
          "output_type": "execute_result",
          "data": {
            "text/plain": [
              "True"
            ]
          },
          "metadata": {},
          "execution_count": 6
        }
      ],
      "source": [
        "# Download NLTK data\n",
        "nltk.download('punkt_tab')\n",
        "nltk.download('wordnet')\n",
        "nltk.download('omw-1.4')"
      ]
    },
    {
      "cell_type": "code",
      "source": [
        "# Import necessary libraries\n",
        "import nltk\n",
        "from nltk.tokenize import word_tokenize\n",
        "from nltk.stem import PorterStemmer, SnowballStemmer\n",
        "from nltk.stem import WordNetLemmatizer"
      ],
      "metadata": {
        "id": "B0gYEfl8O0JC"
      },
      "execution_count": 2,
      "outputs": []
    },
    {
      "cell_type": "code",
      "source": [
        "# Sample text for analysis\n",
        "sample_text = \"The foxes are running swiftly through the forests, searching for food and shelter.\"\n",
        "\n",
        "# Step 1: Tokenization\n",
        "tokens = word_tokenize(sample_text)\n",
        "print(\"Tokenized Words:\")\n",
        "print(tokens)"
      ],
      "metadata": {
        "colab": {
          "base_uri": "https://localhost:8080/"
        },
        "id": "x-pmhdOVO2W5",
        "outputId": "34948bee-3619-45fa-977a-aed616199a01"
      },
      "execution_count": 7,
      "outputs": [
        {
          "output_type": "stream",
          "name": "stdout",
          "text": [
            "Tokenized Words:\n",
            "['The', 'foxes', 'are', 'running', 'swiftly', 'through', 'the', 'forests', ',', 'searching', 'for', 'food', 'and', 'shelter', '.']\n"
          ]
        }
      ]
    },
    {
      "cell_type": "code",
      "source": [
        "from nltk.stem import PorterStemmer, SnowballStemmer\n",
        "from nltk.tokenize import word_tokenize\n",
        "\n",
        "text = \"running runs ran easily\"\n",
        "\n",
        "tokens = word_tokenize(text)\n",
        "\n",
        "porter_stemmer = PorterStemmer()\n",
        "snowball_stemmer = SnowballStemmer(\"english\")\n",
        "\n",
        "porter_stems = [porter_stemmer.stem(word) for word in tokens]\n",
        "snowball_stems = [snowball_stemmer.stem(word) for word in tokens]\n",
        "\n",
        "print(\"\\nPorter Stemmer Results:\")\n",
        "print(porter_stems)\n",
        "\n",
        "print(\"\\nSnowball Stemmer Results:\")\n",
        "print(snowball_stems)\n"
      ],
      "metadata": {
        "colab": {
          "base_uri": "https://localhost:8080/"
        },
        "id": "jWeDsjJSO410",
        "outputId": "6eaf0386-3498-4740-cc0b-e7659f4b7514"
      },
      "execution_count": 8,
      "outputs": [
        {
          "output_type": "stream",
          "name": "stdout",
          "text": [
            "\n",
            "Porter Stemmer Results:\n",
            "['run', 'run', 'ran', 'easili']\n",
            "\n",
            "Snowball Stemmer Results:\n",
            "['run', 'run', 'ran', 'easili']\n"
          ]
        }
      ]
    },
    {
      "cell_type": "code",
      "source": [
        "from nltk.stem import PorterStemmer, SnowballStemmer\n",
        "from nltk.tokenize import word_tokenize\n",
        "from nltk.stem import WordNetLemmatizer\n",
        "\n",
        "# Sample text to demonstrate\n",
        "text = \"running runs ran easily\"\n",
        "\n",
        "# Tokenize the text\n",
        "tokens = word_tokenize(text)\n",
        "\n",
        "# Initialize stemmers and lemmatizer\n",
        "porter_stemmer = PorterStemmer()\n",
        "snowball_stemmer = SnowballStemmer(\"english\")\n",
        "lemmatizer = WordNetLemmatizer()\n",
        "\n",
        "# Apply stemming with Porter and Snowball stemmers\n",
        "porter_stems = [porter_stemmer.stem(word) for word in tokens]\n",
        "snowball_stems = [snowball_stemmer.stem(word) for word in tokens]\n",
        "\n",
        "# Apply lemmatization\n",
        "lemmatized_words = [lemmatizer.lemmatize(word) for word in tokens]\n",
        "\n",
        "# Print results\n",
        "print(\"\\nPorter Stemmer Results:\")\n",
        "print(porter_stems)\n",
        "\n",
        "print(\"\\nSnowball Stemmer Results:\")\n",
        "print(snowball_stems)\n",
        "\n",
        "print(\"\\nLemmatized Words:\")\n",
        "print(lemmatized_words)"
      ],
      "metadata": {
        "colab": {
          "base_uri": "https://localhost:8080/"
        },
        "id": "cRexVWabO8Re",
        "outputId": "55e35cd6-5299-44de-ce59-0a372c03b095"
      },
      "execution_count": 9,
      "outputs": [
        {
          "output_type": "stream",
          "name": "stdout",
          "text": [
            "\n",
            "Porter Stemmer Results:\n",
            "['run', 'run', 'ran', 'easili']\n",
            "\n",
            "Snowball Stemmer Results:\n",
            "['run', 'run', 'ran', 'easili']\n",
            "\n",
            "Lemmatized Words:\n",
            "['running', 'run', 'ran', 'easily']\n"
          ]
        }
      ]
    },
    {
      "cell_type": "code",
      "source": [
        "from nltk.stem import PorterStemmer, SnowballStemmer\n",
        "from nltk.tokenize import word_tokenize\n",
        "from nltk.stem import WordNetLemmatizer\n",
        "\n",
        "# Sample text to demonstrate\n",
        "text = \"running runs ran easily\"\n",
        "\n",
        "# Tokenize the text\n",
        "tokens = word_tokenize(text)\n",
        "\n",
        "# Initialize stemmers and lemmatizer\n",
        "porter_stemmer = PorterStemmer()\n",
        "snowball_stemmer = SnowballStemmer(\"english\")\n",
        "lemmatizer = WordNetLemmatizer()\n",
        "\n",
        "# Apply stemming with Porter and Snowball stemmers\n",
        "porter_stems = [porter_stemmer.stem(word) for word in tokens]\n",
        "snowball_stems = [snowball_stemmer.stem(word) for word in tokens]\n",
        "\n",
        "# Apply lemmatization\n",
        "lemmatized_words = [lemmatizer.lemmatize(word) for word in tokens]\n",
        "\n",
        "# Comparative understanding\n",
        "print(\"\\nComparison of Original Words, Stemming (Porter), and Lemmatization:\")\n",
        "for word, porter, lemma in zip(tokens, porter_stems, lemmatized_words):\n",
        "    print(f\"Original: {word}   , Porter Stem: {porter}   , Lemma: {lemma}\")"
      ],
      "metadata": {
        "colab": {
          "base_uri": "https://localhost:8080/"
        },
        "id": "gXRuCgtBPEju",
        "outputId": "af41ecc1-c04d-4b80-f551-8e2c65c5bac2"
      },
      "execution_count": 10,
      "outputs": [
        {
          "output_type": "stream",
          "name": "stdout",
          "text": [
            "\n",
            "Comparison of Original Words, Stemming (Porter), and Lemmatization:\n",
            "Original: running   , Porter Stem: run   , Lemma: running\n",
            "Original: runs   , Porter Stem: run   , Lemma: run\n",
            "Original: ran   , Porter Stem: ran   , Lemma: ran\n",
            "Original: easily   , Porter Stem: easili   , Lemma: easily\n"
          ]
        }
      ]
    },
    {
      "cell_type": "code",
      "source": [],
      "metadata": {
        "id": "VAB3GNVGPHnG"
      },
      "execution_count": null,
      "outputs": []
    }
  ]
}