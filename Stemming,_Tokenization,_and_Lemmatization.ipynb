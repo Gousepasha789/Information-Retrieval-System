{
  "nbformat": 4,
  "nbformat_minor": 0,
  "metadata": {
    "colab": {
      "provenance": [],
      "authorship_tag": "ABX9TyPgEFiA7VBI0upnw4IXErFY",
      "include_colab_link": true
    },
    "kernelspec": {
      "name": "python3",
      "display_name": "Python 3"
    },
    "language_info": {
      "name": "python"
    }
  },
  "cells": [
    {
      "cell_type": "markdown",
      "metadata": {
        "id": "view-in-github",
        "colab_type": "text"
      },
      "source": [
        "<a href=\"https://colab.research.google.com/github/Gousepasha789/Information-Retrieval-System/blob/main/Stemming%2C_Tokenization%2C_and_Lemmatization.ipynb\" target=\"_parent\"><img src=\"https://colab.research.google.com/assets/colab-badge.svg\" alt=\"Open In Colab\"/></a>"
      ]
    },
    {
      "cell_type": "code",
      "execution_count": 6,
      "metadata": {
        "colab": {
          "base_uri": "https://localhost:8080/"
        },
        "id": "MSRyexZvOZmN",
        "outputId": "603fa72f-36bc-49c5-aef3-0462880db751"
      },
      "outputs": [
        {
          "output_type": "stream",
          "name": "stderr",
          "text": [
            "[nltk_data] Downloading package punkt_tab to /root/nltk_data...\n",
            "[nltk_data]   Unzipping tokenizers/punkt_tab.zip.\n",
            "[nltk_data] Downloading package wordnet to /root/nltk_data...\n",
            "[nltk_data]   Package wordnet is already up-to-date!\n",
            "[nltk_data] Downloading package omw-1.4 to /root/nltk_data...\n",
            "[nltk_data]   Package omw-1.4 is already up-to-date!\n"
          ]
        },
        {
          "output_type": "execute_result",
          "data": {
            "text/plain": [
              "True"
            ]
          },
          "metadata": {},
          "execution_count": 6
        }
      ],
      "source": [
        "# Download NLTK data\n",
        "nltk.download('punkt_tab')\n",
        "nltk.download('wordnet')\n",
        "nltk.download('omw-1.4')"
      ]
    },
    {
      "cell_type": "code",
      "source": [
        "# Import necessary libraries\n",
        "import nltk\n",
        "from nltk.tokenize import word_tokenize\n",
        "from nltk.stem import PorterStemmer, SnowballStemmer\n",
        "from nltk.stem import WordNetLemmatizer"
      ],
      "metadata": {
        "id": "B0gYEfl8O0JC"
      },
      "execution_count": 11,
      "outputs": []
    },
    {
      "cell_type": "code",
      "source": [
        "# Sample text for analysis\n",
        "sample_text = \"The rabbits are hopping quickly across the meadows, looking for safety and nourishment.\"\n",
        "\n",
        "# Step 1: Tokenization\n",
        "tokens = word_tokenize(sample_text)\n",
        "print(\"Tokenized Words:\")\n",
        "print(tokens)"
      ],
      "metadata": {
        "colab": {
          "base_uri": "https://localhost:8080/"
        },
        "id": "x-pmhdOVO2W5",
        "outputId": "1f4dd2c2-8b3b-402c-f1ac-3cdd372da0ba"
      },
      "execution_count": 12,
      "outputs": [
        {
          "output_type": "stream",
          "name": "stdout",
          "text": [
            "Tokenized Words:\n",
            "['The', 'rabbits', 'are', 'hopping', 'quickly', 'across', 'the', 'meadows', ',', 'looking', 'for', 'safety', 'and', 'nourishment', '.']\n"
          ]
        }
      ]
    },
    {
      "cell_type": "code",
      "source": [
        "from nltk.stem import PorterStemmer, SnowballStemmer\n",
        "from nltk.tokenize import word_tokenize\n",
        "\n",
        "text = \"i am very good hardworker\"\n",
        "\n",
        "tokens = word_tokenize(text)\n",
        "\n",
        "porter_stemmer = PorterStemmer()\n",
        "snowball_stemmer = SnowballStemmer(\"english\")\n",
        "\n",
        "porter_stems = [porter_stemmer.stem(word) for word in tokens]\n",
        "snowball_stems = [snowball_stemmer.stem(word) for word in tokens]\n",
        "\n",
        "print(\"\\nPorter Stemmer Results:\")\n",
        "print(porter_stems)\n",
        "\n",
        "print(\"\\nSnowball Stemmer Results:\")\n",
        "print(snowball_stems)\n"
      ],
      "metadata": {
        "colab": {
          "base_uri": "https://localhost:8080/"
        },
        "id": "jWeDsjJSO410",
        "outputId": "48e74558-79f4-424e-a460-070367c61249"
      },
      "execution_count": 13,
      "outputs": [
        {
          "output_type": "stream",
          "name": "stdout",
          "text": [
            "\n",
            "Porter Stemmer Results:\n",
            "['i', 'am', 'veri', 'good', 'hardwork']\n",
            "\n",
            "Snowball Stemmer Results:\n",
            "['i', 'am', 'veri', 'good', 'hardwork']\n"
          ]
        }
      ]
    },
    {
      "cell_type": "code",
      "source": [
        "from nltk.stem import PorterStemmer, SnowballStemmer\n",
        "from nltk.tokenize import word_tokenize\n",
        "from nltk.stem import WordNetLemmatizer\n",
        "\n",
        "# Sample text to demonstrate\n",
        "text = \"i am very much intresetd in ai field\"\n",
        "\n",
        "# Tokenize the text\n",
        "tokens = word_tokenize(text)\n",
        "\n",
        "# Initialize stemmers and lemmatizer\n",
        "porter_stemmer = PorterStemmer()\n",
        "snowball_stemmer = SnowballStemmer(\"english\")\n",
        "lemmatizer = WordNetLemmatizer()\n",
        "\n",
        "# Apply stemming with Porter and Snowball stemmers\n",
        "porter_stems = [porter_stemmer.stem(word) for word in tokens]\n",
        "snowball_stems = [snowball_stemmer.stem(word) for word in tokens]\n",
        "\n",
        "# Apply lemmatization\n",
        "lemmatized_words = [lemmatizer.lemmatize(word) for word in tokens]\n",
        "\n",
        "# Print results\n",
        "print(\"\\nPorter Stemmer Results:\")\n",
        "print(porter_stems)\n",
        "\n",
        "print(\"\\nSnowball Stemmer Results:\")\n",
        "print(snowball_stems)\n",
        "\n",
        "print(\"\\nLemmatized Words:\")\n",
        "print(lemmatized_words)"
      ],
      "metadata": {
        "colab": {
          "base_uri": "https://localhost:8080/"
        },
        "id": "cRexVWabO8Re",
        "outputId": "9bf19824-f269-45b9-ea5a-ee809900c0f2"
      },
      "execution_count": 14,
      "outputs": [
        {
          "output_type": "stream",
          "name": "stdout",
          "text": [
            "\n",
            "Porter Stemmer Results:\n",
            "['i', 'am', 'veri', 'much', 'intresetd', 'in', 'ai', 'field']\n",
            "\n",
            "Snowball Stemmer Results:\n",
            "['i', 'am', 'veri', 'much', 'intresetd', 'in', 'ai', 'field']\n",
            "\n",
            "Lemmatized Words:\n",
            "['i', 'am', 'very', 'much', 'intresetd', 'in', 'ai', 'field']\n"
          ]
        }
      ]
    },
    {
      "cell_type": "code",
      "source": [
        "from nltk.stem import PorterStemmer, SnowballStemmer\n",
        "from nltk.tokenize import word_tokenize\n",
        "from nltk.stem import WordNetLemmatizer\n",
        "\n",
        "# Sample text to demonstrate\n",
        "text = \"i like doing aiartworks\"\n",
        "\n",
        "# Tokenize the text\n",
        "tokens = word_tokenize(text)\n",
        "\n",
        "# Initialize stemmers and lemmatizer\n",
        "porter_stemmer = PorterStemmer()\n",
        "snowball_stemmer = SnowballStemmer(\"english\")\n",
        "lemmatizer = WordNetLemmatizer()\n",
        "\n",
        "# Apply stemming with Porter and Snowball stemmers\n",
        "porter_stems = [porter_stemmer.stem(word) for word in tokens]\n",
        "snowball_stems = [snowball_stemmer.stem(word) for word in tokens]\n",
        "\n",
        "# Apply lemmatization\n",
        "lemmatized_words = [lemmatizer.lemmatize(word) for word in tokens]\n",
        "\n",
        "# Comparative understanding\n",
        "print(\"\\nComparison of Original Words, Stemming (Porter), and Lemmatization:\")\n",
        "for word, porter, lemma in zip(tokens, porter_stems, lemmatized_words):\n",
        "    print(f\"Original: {word}   , Porter Stem: {porter}   , Lemma: {lemma}\")"
      ],
      "metadata": {
        "colab": {
          "base_uri": "https://localhost:8080/"
        },
        "id": "gXRuCgtBPEju",
        "outputId": "639db90c-1f22-4ad9-f739-69b7038df013"
      },
      "execution_count": 15,
      "outputs": [
        {
          "output_type": "stream",
          "name": "stdout",
          "text": [
            "\n",
            "Comparison of Original Words, Stemming (Porter), and Lemmatization:\n",
            "Original: i   , Porter Stem: i   , Lemma: i\n",
            "Original: like   , Porter Stem: like   , Lemma: like\n",
            "Original: doing   , Porter Stem: do   , Lemma: doing\n",
            "Original: aiartworks   , Porter Stem: aiartwork   , Lemma: aiartworks\n"
          ]
        }
      ]
    },
    {
      "cell_type": "code",
      "source": [],
      "metadata": {
        "id": "VAB3GNVGPHnG"
      },
      "execution_count": null,
      "outputs": []
    }
  ]
}